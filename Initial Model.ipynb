{
 "cells": [
  {
   "cell_type": "code",
   "execution_count": 1,
   "metadata": {},
   "outputs": [],
   "source": [
    "# Import our dependencies\n",
    "import pandas as pd\n",
    "import matplotlib as plt\n",
    "from sklearn.datasets import make_blobs\n",
    "import sklearn as skl\n",
    "import tensorflow as tf"
   ]
  },
  {
   "cell_type": "code",
   "execution_count": 5,
   "metadata": {},
   "outputs": [
    {
     "data": {
      "text/plain": [
       "<matplotlib.axes._subplots.AxesSubplot at 0x7fe7a1327490>"
      ]
     },
     "execution_count": 5,
     "metadata": {},
     "output_type": "execute_result"
    },
    {
     "data": {
      "image/png": "[encoded data removed]",
      "text/plain": [
       "<Figure size 432x288 with 2 Axes>"
      ]
     },
     "metadata": {
      "needs_background": "light"
     },
     "output_type": "display_data"
    }
   ],
   "source": [
    "# Generate dummy dataset\n",
    "X, y = make_blobs(n_samples=1000, centers=2, n_features=2, random_state=78)\n",
    "\n",
    "# Creating a DataFrame with the dummy data\n",
    "df = pd.DataFrame(X, columns=[\"Feature 1\", \"Feature 2\"])\n",
    "df[\"Target\"] = y\n",
    "\n",
    "# Plotting the dummy data\n",
    "df.plot.scatter(x=\"Feature 1\", y=\"Feature 2\", c=\"Target\", colormap=\"winter\")"
   ]
  },
  {
   "cell_type": "code",
   "execution_count": 6,
   "metadata": {},
   "outputs": [],
   "source": [
    "# Use sklearn to split dataset\n",
    "from sklearn.model_selection import train_test_split\n",
    "X_train, X_test, y_train, y_test = train_test_split(X, y, random_state=78)"
   ]
  },
  {
   "cell_type": "code",
   "execution_count": 7,
   "metadata": {},
   "outputs": [],
   "source": [
    "# Create scaler instance\n",
    "X_scaler = skl.preprocessing.StandardScaler()\n",
    "\n",
    "# Fit the scaler\n",
    "X_scaler.fit(X_train)\n",
    "\n",
    "# Scale the data\n",
    "X_train_scaled = X_scaler.transform(X_train)\n",
    "X_test_scaled = X_scaler.transform(X_test)"
   ]
  },
  {
   "cell_type": "markdown",
   "metadata": {},
   "source": [
    "# Neural Network Below"
   ]
  },
  {
   "cell_type": "code",
   "execution_count": 9,
   "metadata": {},
   "outputs": [],
   "source": [
    "# Create the Keras Sequential model (Sequential)\n",
    "nn_model = tf.keras.models.Sequential()\n",
    "\n",
    "# No specific classes for input/hidden/output layers. All use dense class.\n",
    "\n",
    "#The input_dim parameter indicates how many inputs will be in the model (in this case two).\n",
    "#The units parameter indicates how many neurons we want in the hidden layer (in this case one).\n",
    "#The activation parameter indicates which activation function to use. \n",
    "#  We’ll use the ReLU activation function to allow our hidden layer to identify and \n",
    "#  train on nonlinear relationships in the dataset.\n",
    "\n",
    "# Add our first Dense layer, including the input layer\n",
    "nn_model.add(tf.keras.layers.Dense(units=1, activation=\"relu\", input_dim=2))"
   ]
  },
  {
   "cell_type": "code",
   "execution_count": 10,
   "metadata": {},
   "outputs": [],
   "source": [
    "# Add the output layer that uses a probability activation function\n",
    "nn_model.add(tf.keras.layers.Dense(units=1, activation=\"sigmoid\"))"
   ]
  },
  {
   "cell_type": "code",
   "execution_count": 11,
   "metadata": {},
   "outputs": [
    {
     "name": "stdout",
     "output_type": "stream",
     "text": [
      "Model: \"sequential_1\"\n",
      "_________________________________________________________________\n",
      "Layer (type)                 Output Shape              Param #   \n",
      "=================================================================\n",
      "dense (Dense)                (None, 1)                 3         \n",
      "_________________________________________________________________\n",
      "dense_1 (Dense)              (None, 1)                 2         \n",
      "=================================================================\n",
      "Total params: 5\n",
      "Trainable params: 5\n",
      "Non-trainable params: 0\n",
      "_________________________________________________________________\n"
     ]
    }
   ],
   "source": [
    "# Check the structure of the Sequential model\n",
    "nn_model.summary()"
   ]
  },
  {
   "cell_type": "code",
   "execution_count": 12,
   "metadata": {},
   "outputs": [],
   "source": [
    "# Compile the Sequential model together and customize metrics\n",
    "nn_model.compile(loss=\"binary_crossentropy\", optimizer=\"adam\", metrics=[\"accuracy\"])"
   ]
  },
  {
   "cell_type": "code",
   "execution_count": 13,
   "metadata": {},
   "outputs": [
    {
     "name": "stdout",
     "output_type": "stream",
     "text": [
      "Train on 750 samples\n",
      "Epoch 1/100\n",
      "750/750 [==============================] - 3s 4ms/sample - loss: 0.6888 - accuracy: 0.5307\n",
      "Epoch 2/100\n",
      "750/750 [==============================] - 0s 66us/sample - loss: 0.6847 - accuracy: 0.5840\n",
      "Epoch 3/100\n",
      "750/750 [==============================] - 0s 64us/sample - loss: 0.6800 - accuracy: 0.6267\n",
      "Epoch 4/100\n",
      "750/750 [==============================] - 0s 70us/sample - loss: 0.6740 - accuracy: 0.6867\n",
      "Epoch 5/100\n",
      "750/750 [==============================] - 0s 71us/sample - loss: 0.6662 - accuracy: 0.7507\n",
      "Epoch 6/100\n",
      "750/750 [==============================] - 0s 76us/sample - loss: 0.6567 - accuracy: 0.8040\n",
      "Epoch 7/100\n",
      "750/750 [==============================] - 0s 67us/sample - loss: 0.6443 - accuracy: 0.8640\n",
      "Epoch 8/100\n",
      "750/750 [==============================] - 0s 66us/sample - loss: 0.6293 - accuracy: 0.9173\n",
      "Epoch 9/100\n",
      "750/750 [==============================] - 0s 68us/sample - loss: 0.6126 - accuracy: 0.9493\n",
      "Epoch 10/100\n",
      "750/750 [==============================] - 0s 70us/sample - loss: 0.5950 - accuracy: 0.9747\n",
      "Epoch 11/100\n",
      "750/750 [==============================] - 0s 67us/sample - loss: 0.5771 - accuracy: 0.9800\n",
      "Epoch 12/100\n",
      "750/750 [==============================] - 0s 63us/sample - loss: 0.5590 - accuracy: 0.9920\n",
      "Epoch 13/100\n",
      "750/750 [==============================] - 0s 74us/sample - loss: 0.5409 - accuracy: 0.9960\n",
      "Epoch 14/100\n",
      "750/750 [==============================] - 0s 62us/sample - loss: 0.5229 - accuracy: 1.0000\n",
      "Epoch 15/100\n",
      "750/750 [==============================] - 0s 62us/sample - loss: 0.5052 - accuracy: 1.0000\n",
      "Epoch 16/100\n",
      "750/750 [==============================] - 0s 64us/sample - loss: 0.4880 - accuracy: 1.0000\n",
      "Epoch 17/100\n",
      "750/750 [==============================] - 0s 76us/sample - loss: 0.4711 - accuracy: 1.0000\n",
      "Epoch 18/100\n",
      "750/750 [==============================] - 0s 68us/sample - loss: 0.4547 - accuracy: 1.0000\n",
      "Epoch 19/100\n",
      "750/750 [==============================] - 0s 64us/sample - loss: 0.4390 - accuracy: 1.0000\n",
      "Epoch 20/100\n",
      "750/750 [==============================] - 0s 66us/sample - loss: 0.4237 - accuracy: 1.0000\n",
      "Epoch 21/100\n",
      "750/750 [==============================] - 0s 67us/sample - loss: 0.4090 - accuracy: 1.0000\n",
      "Epoch 22/100\n",
      "750/750 [==============================] - 0s 91us/sample - loss: 0.3949 - accuracy: 1.0000\n",
      "Epoch 23/100\n",
      "750/750 [==============================] - 0s 70us/sample - loss: 0.3814 - accuracy: 1.0000\n",
      "Epoch 24/100\n",
      "750/750 [==============================] - 0s 66us/sample - loss: 0.3685 - accuracy: 1.0000\n",
      "Epoch 25/100\n",
      "750/750 [==============================] - 0s 70us/sample - loss: 0.3561 - accuracy: 1.0000\n",
      "Epoch 26/100\n",
      "750/750 [==============================] - 0s 71us/sample - loss: 0.3444 - accuracy: 1.0000\n",
      "Epoch 27/100\n",
      "750/750 [==============================] - 0s 72us/sample - loss: 0.3332 - accuracy: 1.0000\n",
      "Epoch 28/100\n",
      "750/750 [==============================] - 0s 70us/sample - loss: 0.3225 - accuracy: 1.0000\n",
      "Epoch 29/100\n",
      "750/750 [==============================] - 0s 65us/sample - loss: 0.3124 - accuracy: 1.0000\n",
      "Epoch 30/100\n",
      "750/750 [==============================] - 0s 73us/sample - loss: 0.3027 - accuracy: 1.0000\n",
      "Epoch 31/100\n",
      "750/750 [==============================] - 0s 61us/sample - loss: 0.2935 - accuracy: 1.0000\n",
      "Epoch 32/100\n",
      "750/750 [==============================] - 0s 66us/sample - loss: 0.2847 - accuracy: 1.0000\n",
      "Epoch 33/100\n",
      "750/750 [==============================] - 0s 73us/sample - loss: 0.2764 - accuracy: 1.0000\n",
      "Epoch 34/100\n",
      "750/750 [==============================] - 0s 72us/sample - loss: 0.2685 - accuracy: 1.0000\n",
      "Epoch 35/100\n",
      "750/750 [==============================] - 0s 68us/sample - loss: 0.2609 - accuracy: 1.0000\n",
      "Epoch 36/100\n",
      "750/750 [==============================] - 0s 73us/sample - loss: 0.2537 - accuracy: 1.0000\n",
      "Epoch 37/100\n",
      "750/750 [==============================] - 0s 69us/sample - loss: 0.2468 - accuracy: 1.0000\n",
      "Epoch 38/100\n",
      "750/750 [==============================] - 0s 72us/sample - loss: 0.2402 - accuracy: 1.0000\n",
      "Epoch 39/100\n",
      "750/750 [==============================] - 0s 63us/sample - loss: 0.2339 - accuracy: 1.0000\n",
      "Epoch 40/100\n",
      "750/750 [==============================] - 0s 62us/sample - loss: 0.2278 - accuracy: 1.0000\n",
      "Epoch 41/100\n",
      "750/750 [==============================] - 0s 67us/sample - loss: 0.2220 - accuracy: 1.0000\n",
      "Epoch 42/100\n",
      "750/750 [==============================] - 0s 63us/sample - loss: 0.2164 - accuracy: 1.0000\n",
      "Epoch 43/100\n",
      "750/750 [==============================] - 0s 61us/sample - loss: 0.2111 - accuracy: 1.0000\n",
      "Epoch 44/100\n",
      "750/750 [==============================] - 0s 66us/sample - loss: 0.2060 - accuracy: 1.0000\n",
      "Epoch 45/100\n",
      "750/750 [==============================] - 0s 63us/sample - loss: 0.2010 - accuracy: 1.0000\n",
      "Epoch 46/100\n",
      "750/750 [==============================] - 0s 64us/sample - loss: 0.1963 - accuracy: 1.0000\n",
      "Epoch 47/100\n",
      "750/750 [==============================] - 0s 62us/sample - loss: 0.1917 - accuracy: 1.0000\n",
      "Epoch 48/100\n",
      "750/750 [==============================] - 0s 69us/sample - loss: 0.1874 - accuracy: 1.0000\n",
      "Epoch 49/100\n",
      "750/750 [==============================] - 0s 65us/sample - loss: 0.1831 - accuracy: 1.0000\n",
      "Epoch 50/100\n",
      "750/750 [==============================] - 0s 68us/sample - loss: 0.1790 - accuracy: 1.0000\n",
      "Epoch 51/100\n",
      "750/750 [==============================] - 0s 62us/sample - loss: 0.1751 - accuracy: 1.0000\n",
      "Epoch 52/100\n",
      "750/750 [==============================] - ETA: 0s - loss: 0.1952 - accuracy: 1.00 - 0s 68us/sample - loss: 0.1713 - accuracy: 1.0000\n",
      "Epoch 53/100\n",
      "750/750 [==============================] - 0s 64us/sample - loss: 0.1676 - accuracy: 1.0000\n",
      "Epoch 54/100\n",
      "750/750 [==============================] - 0s 66us/sample - loss: 0.1641 - accuracy: 1.0000\n",
      "Epoch 55/100\n",
      "750/750 [==============================] - 0s 64us/sample - loss: 0.1606 - accuracy: 1.0000\n",
      "Epoch 56/100\n",
      "750/750 [==============================] - 0s 61us/sample - loss: 0.1572 - accuracy: 1.0000\n",
      "Epoch 57/100\n",
      "750/750 [==============================] - 0s 64us/sample - loss: 0.1540 - accuracy: 1.0000\n",
      "Epoch 58/100\n",
      "750/750 [==============================] - 0s 65us/sample - loss: 0.1509 - accuracy: 1.0000\n",
      "Epoch 59/100\n",
      "750/750 [==============================] - 0s 66us/sample - loss: 0.1478 - accuracy: 1.0000\n",
      "Epoch 60/100\n",
      "750/750 [==============================] - 0s 63us/sample - loss: 0.1449 - accuracy: 1.0000\n",
      "Epoch 61/100\n",
      "750/750 [==============================] - 0s 65us/sample - loss: 0.1420 - accuracy: 1.0000\n",
      "Epoch 62/100\n",
      "750/750 [==============================] - 0s 62us/sample - loss: 0.1393 - accuracy: 1.0000\n",
      "Epoch 63/100\n",
      "750/750 [==============================] - 0s 59us/sample - loss: 0.1366 - accuracy: 1.0000\n",
      "Epoch 64/100\n",
      "750/750 [==============================] - 0s 66us/sample - loss: 0.1340 - accuracy: 1.0000\n",
      "Epoch 65/100\n",
      "750/750 [==============================] - 0s 61us/sample - loss: 0.1315 - accuracy: 1.0000\n",
      "Epoch 66/100\n",
      "750/750 [==============================] - 0s 65us/sample - loss: 0.1290 - accuracy: 1.0000\n",
      "Epoch 67/100\n",
      "750/750 [==============================] - 0s 61us/sample - loss: 0.1266 - accuracy: 1.0000\n",
      "Epoch 68/100\n",
      "750/750 [==============================] - 0s 67us/sample - loss: 0.1243 - accuracy: 1.0000\n",
      "Epoch 69/100\n",
      "750/750 [==============================] - 0s 64us/sample - loss: 0.1220 - accuracy: 1.0000\n",
      "Epoch 70/100\n",
      "750/750 [==============================] - 0s 64us/sample - loss: 0.1198 - accuracy: 1.0000\n",
      "Epoch 71/100\n",
      "750/750 [==============================] - 0s 67us/sample - loss: 0.1177 - accuracy: 1.0000\n",
      "Epoch 72/100\n",
      "750/750 [==============================] - 0s 66us/sample - loss: 0.1156 - accuracy: 1.0000\n",
      "Epoch 73/100\n",
      "750/750 [==============================] - 0s 64us/sample - loss: 0.1135 - accuracy: 1.0000\n",
      "Epoch 74/100\n",
      "750/750 [==============================] - 0s 74us/sample - loss: 0.1115 - accuracy: 1.0000\n",
      "Epoch 75/100\n",
      "750/750 [==============================] - 0s 65us/sample - loss: 0.1096 - accuracy: 1.0000\n",
      "Epoch 76/100\n",
      "750/750 [==============================] - 0s 64us/sample - loss: 0.1077 - accuracy: 1.0000\n",
      "Epoch 77/100\n",
      "750/750 [==============================] - 0s 60us/sample - loss: 0.1058 - accuracy: 1.0000\n",
      "Epoch 78/100\n"
     ]
    },
    {
     "name": "stdout",
     "output_type": "stream",
     "text": [
      "750/750 [==============================] - 0s 64us/sample - loss: 0.1040 - accuracy: 1.0000\n",
      "Epoch 79/100\n",
      "750/750 [==============================] - 0s 64us/sample - loss: 0.1023 - accuracy: 1.0000\n",
      "Epoch 80/100\n",
      "750/750 [==============================] - 0s 61us/sample - loss: 0.1005 - accuracy: 1.0000\n",
      "Epoch 81/100\n",
      "750/750 [==============================] - 0s 62us/sample - loss: 0.0989 - accuracy: 1.0000\n",
      "Epoch 82/100\n",
      "750/750 [==============================] - 0s 60us/sample - loss: 0.0972 - accuracy: 1.0000\n",
      "Epoch 83/100\n",
      "750/750 [==============================] - 0s 63us/sample - loss: 0.0956 - accuracy: 1.0000\n",
      "Epoch 84/100\n",
      "750/750 [==============================] - 0s 66us/sample - loss: 0.0940 - accuracy: 1.0000\n",
      "Epoch 85/100\n",
      "750/750 [==============================] - 0s 65us/sample - loss: 0.0925 - accuracy: 1.0000\n",
      "Epoch 86/100\n",
      "750/750 [==============================] - 0s 65us/sample - loss: 0.0910 - accuracy: 1.0000\n",
      "Epoch 87/100\n",
      "750/750 [==============================] - 0s 66us/sample - loss: 0.0895 - accuracy: 1.0000\n",
      "Epoch 88/100\n",
      "750/750 [==============================] - 0s 62us/sample - loss: 0.0881 - accuracy: 1.0000\n",
      "Epoch 89/100\n",
      "750/750 [==============================] - 0s 65us/sample - loss: 0.0867 - accuracy: 1.0000\n",
      "Epoch 90/100\n",
      "750/750 [==============================] - 0s 67us/sample - loss: 0.0853 - accuracy: 1.0000\n",
      "Epoch 91/100\n",
      "750/750 [==============================] - 0s 80us/sample - loss: 0.0840 - accuracy: 1.0000\n",
      "Epoch 92/100\n",
      "750/750 [==============================] - 0s 66us/sample - loss: 0.0826 - accuracy: 1.0000\n",
      "Epoch 93/100\n",
      "750/750 [==============================] - 0s 60us/sample - loss: 0.0814 - accuracy: 1.0000\n",
      "Epoch 94/100\n",
      "750/750 [==============================] - 0s 62us/sample - loss: 0.0801 - accuracy: 1.0000\n",
      "Epoch 95/100\n",
      "750/750 [==============================] - 0s 83us/sample - loss: 0.0789 - accuracy: 1.0000\n",
      "Epoch 96/100\n",
      "750/750 [==============================] - 0s 92us/sample - loss: 0.0777 - accuracy: 1.0000\n",
      "Epoch 97/100\n",
      "750/750 [==============================] - 0s 84us/sample - loss: 0.0765 - accuracy: 1.0000\n",
      "Epoch 98/100\n",
      "750/750 [==============================] - 0s 84us/sample - loss: 0.0753 - accuracy: 1.0000\n",
      "Epoch 99/100\n",
      "750/750 [==============================] - 0s 70us/sample - loss: 0.0742 - accuracy: 1.0000\n",
      "Epoch 100/100\n",
      "750/750 [==============================] - 0s 65us/sample - loss: 0.0731 - accuracy: 1.0000\n"
     ]
    }
   ],
   "source": [
    "# Fit the model to the training data\n",
    "fit_model = nn_model.fit(X_train_scaled, y_train, epochs=100)"
   ]
  },
  {
   "cell_type": "code",
   "execution_count": 14,
   "metadata": {},
   "outputs": [
    {
     "data": {
      "text/plain": [
       "<matplotlib.axes._subplots.AxesSubplot at 0x7fe7c1739b10>"
      ]
     },
     "execution_count": 14,
     "metadata": {},
     "output_type": "execute_result"
    },
    {
     "data": {
      "image/png": "[encoded data removed]",
      "text/plain": [
       "<Figure size 432x288 with 1 Axes>"
      ]
     },
     "metadata": {
      "needs_background": "light"
     },
     "output_type": "display_data"
    }
   ],
   "source": [
    "# Create a DataFrame containing training history\n",
    "history_df = pd.DataFrame(fit_model.history, index=range(1,len(fit_model.history[\"loss\"])+1))\n",
    "\n",
    "# Plot the loss\n",
    "history_df.plot(y=\"loss\")"
   ]
  },
  {
   "cell_type": "code",
   "execution_count": 15,
   "metadata": {},
   "outputs": [
    {
     "data": {
      "text/plain": [
       "<matplotlib.axes._subplots.AxesSubplot at 0x7fe7b3c36490>"
      ]
     },
     "execution_count": 15,
     "metadata": {},
     "output_type": "execute_result"
    },
    {
     "data": {
      "image/png": "[encoded data removed]",
      "text/plain": [
       "<Figure size 432x288 with 1 Axes>"
      ]
     },
     "metadata": {
      "needs_background": "light"
     },
     "output_type": "display_data"
    }
   ],
   "source": [
    "# Plot the accuracy\n",
    "history_df.plot(y=\"accuracy\")"
   ]
  },
  {
   "cell_type": "code",
   "execution_count": 16,
   "metadata": {},
   "outputs": [
    {
     "name": "stdout",
     "output_type": "stream",
     "text": [
      "250/1 - 0s - loss: 0.0763 - accuracy: 1.0000\n",
      "Loss: 0.06857150143384934, Accuracy: 1.0\n"
     ]
    }
   ],
   "source": [
    "# Evaluate the model using the test data\n",
    "model_loss, model_accuracy = nn_model.evaluate(X_test_scaled,y_test,verbose=2)\n",
    "print(f\"Loss: {model_loss}, Accuracy: {model_accuracy}\")"
   ]
  },
  {
   "cell_type": "code",
   "execution_count": 17,
   "metadata": {},
   "outputs": [
    {
     "data": {
      "text/plain": [
       "array([[0],\n",
       "       [1],\n",
       "       [0],\n",
       "       [1],\n",
       "       [0],\n",
       "       [0],\n",
       "       [1],\n",
       "       [1],\n",
       "       [1],\n",
       "       [0]], dtype=int32)"
      ]
     },
     "execution_count": 17,
     "metadata": {},
     "output_type": "execute_result"
    }
   ],
   "source": [
    "# Predict the classification of a new set of blob data\n",
    "new_X, new_Y = make_blobs(n_samples=10, centers=2, n_features=2, random_state=78)\n",
    "\n",
    "nn_model.predict_classes(new_X)"
   ]
  },
  {
   "cell_type": "code",
   "execution_count": 18,
   "metadata": {},
   "outputs": [
    {
     "data": {
      "text/plain": [
       "<matplotlib.axes._subplots.AxesSubplot at 0x7fe7b3ce5210>"
      ]
     },
     "execution_count": 18,
     "metadata": {},
     "output_type": "execute_result"
    },
    {
     "data": {
      "image/png": "[encoded data removed]",
      "text/plain": [
       "<Figure size 432x288 with 2 Axes>"
      ]
     },
     "metadata": {
      "needs_background": "light"
     },
     "output_type": "display_data"
    }
   ],
   "source": [
    "from sklearn.datasets import make_moons\n",
    "\n",
    "# Creating dummy nonlinear data\n",
    "X_moons, y_moons = make_moons(n_samples=1000, noise=0.08, random_state=78)\n",
    "\n",
    "# Transforming y_moons to a vertical vector\n",
    "y_moons = y_moons.reshape(-1, 1)\n",
    "\n",
    "# Creating a DataFrame to plot the nonlinear dummy data\n",
    "df_moons = pd.DataFrame(X_moons, columns=[\"Feature 1\", \"Feature 2\"])\n",
    "df_moons[\"Target\"] = y_moons\n",
    "\n",
    "# Plot the nonlinear dummy data\n",
    "df_moons.plot.scatter(x=\"Feature 1\",y=\"Feature 2\", c=\"Target\",colormap=\"winter\")"
   ]
  },
  {
   "cell_type": "code",
   "execution_count": 19,
   "metadata": {},
   "outputs": [],
   "source": [
    "# Create training and testing sets\n",
    "X_moon_train, X_moon_test, y_moon_train, y_moon_test = train_test_split(\n",
    "    X_moons, y_moons, random_state=78\n",
    ")\n",
    "\n",
    "# Create the scaler instance\n",
    "X_moon_scaler = skl.preprocessing.StandardScaler()\n",
    "\n",
    "# Fit the scaler\n",
    "X_moon_scaler.fit(X_moon_train)\n",
    "\n",
    "# Scale the data\n",
    "X_moon_train_scaled = X_moon_scaler.transform(X_moon_train)\n",
    "X_moon_test_scaled = X_moon_scaler.transform(X_moon_test)"
   ]
  },
  {
   "cell_type": "code",
   "execution_count": 20,
   "metadata": {},
   "outputs": [
    {
     "name": "stdout",
     "output_type": "stream",
     "text": [
      "Train on 750 samples\n",
      "Epoch 1/100\n",
      "750/750 [==============================] - 0s 150us/sample - loss: 0.8407 - accuracy: 0.5667\n",
      "Epoch 2/100\n",
      "750/750 [==============================] - 0s 76us/sample - loss: 0.7351 - accuracy: 0.5947\n",
      "Epoch 3/100\n",
      "750/750 [==============================] - 0s 71us/sample - loss: 0.6623 - accuracy: 0.6160\n",
      "Epoch 4/100\n",
      "750/750 [==============================] - 0s 65us/sample - loss: 0.6156 - accuracy: 0.6360\n",
      "Epoch 5/100\n",
      "750/750 [==============================] - 0s 64us/sample - loss: 0.5788 - accuracy: 0.6547\n",
      "Epoch 6/100\n",
      "750/750 [==============================] - 0s 62us/sample - loss: 0.5510 - accuracy: 0.6667\n",
      "Epoch 7/100\n",
      "750/750 [==============================] - 0s 68us/sample - loss: 0.5283 - accuracy: 0.6827\n",
      "Epoch 8/100\n",
      "750/750 [==============================] - 0s 65us/sample - loss: 0.5093 - accuracy: 0.6947\n",
      "Epoch 9/100\n",
      "750/750 [==============================] - 0s 68us/sample - loss: 0.4931 - accuracy: 0.7053\n",
      "Epoch 10/100\n",
      "750/750 [==============================] - 0s 70us/sample - loss: 0.4782 - accuracy: 0.7107\n",
      "Epoch 11/100\n",
      "750/750 [==============================] - 0s 78us/sample - loss: 0.4651 - accuracy: 0.7200\n",
      "Epoch 12/100\n",
      "750/750 [==============================] - 0s 74us/sample - loss: 0.4534 - accuracy: 0.7280\n",
      "Epoch 13/100\n",
      "750/750 [==============================] - 0s 74us/sample - loss: 0.4425 - accuracy: 0.7360\n",
      "Epoch 14/100\n",
      "750/750 [==============================] - 0s 79us/sample - loss: 0.4325 - accuracy: 0.7467\n",
      "Epoch 15/100\n",
      "750/750 [==============================] - 0s 78us/sample - loss: 0.4231 - accuracy: 0.7560\n",
      "Epoch 16/100\n",
      "750/750 [==============================] - 0s 78us/sample - loss: 0.4145 - accuracy: 0.7680\n",
      "Epoch 17/100\n",
      "750/750 [==============================] - 0s 73us/sample - loss: 0.4063 - accuracy: 0.7787\n",
      "Epoch 18/100\n",
      "750/750 [==============================] - 0s 90us/sample - loss: 0.3986 - accuracy: 0.7813\n",
      "Epoch 19/100\n",
      "750/750 [==============================] - 0s 69us/sample - loss: 0.3912 - accuracy: 0.7840\n",
      "Epoch 20/100\n",
      "750/750 [==============================] - 0s 82us/sample - loss: 0.3842 - accuracy: 0.7867\n",
      "Epoch 21/100\n",
      "750/750 [==============================] - 0s 72us/sample - loss: 0.3775 - accuracy: 0.7907\n",
      "Epoch 22/100\n",
      "750/750 [==============================] - 0s 65us/sample - loss: 0.3711 - accuracy: 0.7947\n",
      "Epoch 23/100\n",
      "750/750 [==============================] - 0s 65us/sample - loss: 0.3654 - accuracy: 0.7987\n",
      "Epoch 24/100\n",
      "750/750 [==============================] - 0s 66us/sample - loss: 0.3593 - accuracy: 0.8000\n",
      "Epoch 25/100\n",
      "750/750 [==============================] - 0s 69us/sample - loss: 0.3539 - accuracy: 0.8040\n",
      "Epoch 26/100\n",
      "750/750 [==============================] - 0s 65us/sample - loss: 0.3488 - accuracy: 0.8120\n",
      "Epoch 27/100\n",
      "750/750 [==============================] - 0s 67us/sample - loss: 0.3439 - accuracy: 0.8160\n",
      "Epoch 28/100\n",
      "750/750 [==============================] - 0s 73us/sample - loss: 0.3393 - accuracy: 0.8187\n",
      "Epoch 29/100\n",
      "750/750 [==============================] - 0s 78us/sample - loss: 0.3351 - accuracy: 0.8240\n",
      "Epoch 30/100\n",
      "750/750 [==============================] - 0s 72us/sample - loss: 0.3311 - accuracy: 0.8293\n",
      "Epoch 31/100\n",
      "750/750 [==============================] - 0s 72us/sample - loss: 0.3273 - accuracy: 0.8320\n",
      "Epoch 32/100\n",
      "750/750 [==============================] - 0s 71us/sample - loss: 0.3236 - accuracy: 0.8413\n",
      "Epoch 33/100\n",
      "750/750 [==============================] - 0s 70us/sample - loss: 0.3203 - accuracy: 0.8427\n",
      "Epoch 34/100\n",
      "750/750 [==============================] - 0s 83us/sample - loss: 0.3172 - accuracy: 0.8427\n",
      "Epoch 35/100\n",
      "750/750 [==============================] - 0s 83us/sample - loss: 0.3142 - accuracy: 0.8480\n",
      "Epoch 36/100\n",
      "750/750 [==============================] - 0s 83us/sample - loss: 0.3115 - accuracy: 0.8493\n",
      "Epoch 37/100\n",
      "750/750 [==============================] - 0s 79us/sample - loss: 0.3088 - accuracy: 0.8547\n",
      "Epoch 38/100\n",
      "750/750 [==============================] - 0s 68us/sample - loss: 0.3063 - accuracy: 0.8560\n",
      "Epoch 39/100\n",
      "750/750 [==============================] - 0s 62us/sample - loss: 0.3040 - accuracy: 0.8573\n",
      "Epoch 40/100\n",
      "750/750 [==============================] - 0s 64us/sample - loss: 0.3017 - accuracy: 0.8640\n",
      "Epoch 41/100\n",
      "750/750 [==============================] - 0s 71us/sample - loss: 0.2997 - accuracy: 0.8667\n",
      "Epoch 42/100\n",
      "750/750 [==============================] - 0s 81us/sample - loss: 0.2977 - accuracy: 0.8667\n",
      "Epoch 43/100\n",
      "750/750 [==============================] - 0s 75us/sample - loss: 0.2957 - accuracy: 0.8667\n",
      "Epoch 44/100\n",
      "750/750 [==============================] - 0s 83us/sample - loss: 0.2940 - accuracy: 0.8667\n",
      "Epoch 45/100\n",
      "750/750 [==============================] - 0s 77us/sample - loss: 0.2922 - accuracy: 0.8693\n",
      "Epoch 46/100\n",
      "750/750 [==============================] - 0s 81us/sample - loss: 0.2906 - accuracy: 0.8707\n",
      "Epoch 47/100\n",
      "750/750 [==============================] - 0s 75us/sample - loss: 0.2891 - accuracy: 0.8707\n",
      "Epoch 48/100\n",
      "750/750 [==============================] - 0s 78us/sample - loss: 0.2876 - accuracy: 0.8707\n",
      "Epoch 49/100\n",
      "750/750 [==============================] - 0s 79us/sample - loss: 0.2862 - accuracy: 0.8720\n",
      "Epoch 50/100\n",
      "750/750 [==============================] - 0s 78us/sample - loss: 0.2849 - accuracy: 0.8720\n",
      "Epoch 51/100\n",
      "750/750 [==============================] - 0s 68us/sample - loss: 0.2837 - accuracy: 0.8720\n",
      "Epoch 52/100\n",
      "750/750 [==============================] - 0s 65us/sample - loss: 0.2825 - accuracy: 0.8733\n",
      "Epoch 53/100\n",
      "750/750 [==============================] - 0s 66us/sample - loss: 0.2813 - accuracy: 0.8733\n",
      "Epoch 54/100\n",
      "750/750 [==============================] - 0s 62us/sample - loss: 0.2803 - accuracy: 0.8733\n",
      "Epoch 55/100\n",
      "750/750 [==============================] - 0s 64us/sample - loss: 0.2792 - accuracy: 0.8733\n",
      "Epoch 56/100\n",
      "750/750 [==============================] - 0s 67us/sample - loss: 0.2782 - accuracy: 0.8760\n",
      "Epoch 57/100\n",
      "750/750 [==============================] - 0s 63us/sample - loss: 0.2773 - accuracy: 0.8787\n",
      "Epoch 58/100\n",
      "750/750 [==============================] - 0s 67us/sample - loss: 0.2764 - accuracy: 0.8787\n",
      "Epoch 59/100\n",
      "750/750 [==============================] - 0s 66us/sample - loss: 0.2755 - accuracy: 0.8800\n",
      "Epoch 60/100\n",
      "750/750 [==============================] - 0s 64us/sample - loss: 0.2748 - accuracy: 0.8813\n",
      "Epoch 61/100\n",
      "750/750 [==============================] - 0s 79us/sample - loss: 0.2739 - accuracy: 0.8827\n",
      "Epoch 62/100\n",
      "750/750 [==============================] - 0s 77us/sample - loss: 0.2732 - accuracy: 0.8840\n",
      "Epoch 63/100\n",
      "750/750 [==============================] - 0s 79us/sample - loss: 0.2724 - accuracy: 0.8867\n",
      "Epoch 64/100\n",
      "750/750 [==============================] - 0s 82us/sample - loss: 0.2718 - accuracy: 0.8867\n",
      "Epoch 65/100\n",
      "750/750 [==============================] - 0s 72us/sample - loss: 0.2711 - accuracy: 0.8880\n",
      "Epoch 66/100\n",
      "750/750 [==============================] - 0s 65us/sample - loss: 0.2704 - accuracy: 0.8880\n",
      "Epoch 67/100\n",
      "750/750 [==============================] - 0s 69us/sample - loss: 0.2698 - accuracy: 0.8880\n",
      "Epoch 68/100\n",
      "750/750 [==============================] - 0s 68us/sample - loss: 0.2693 - accuracy: 0.8907\n",
      "Epoch 69/100\n",
      "750/750 [==============================] - 0s 68us/sample - loss: 0.2686 - accuracy: 0.8907\n",
      "Epoch 70/100\n",
      "750/750 [==============================] - 0s 68us/sample - loss: 0.2683 - accuracy: 0.8893\n",
      "Epoch 71/100\n",
      "750/750 [==============================] - 0s 64us/sample - loss: 0.2677 - accuracy: 0.8907\n",
      "Epoch 72/100\n",
      "750/750 [==============================] - 0s 62us/sample - loss: 0.2670 - accuracy: 0.8920\n",
      "Epoch 73/100\n",
      "750/750 [==============================] - 0s 67us/sample - loss: 0.2664 - accuracy: 0.8933\n",
      "Epoch 74/100\n",
      "750/750 [==============================] - 0s 62us/sample - loss: 0.2660 - accuracy: 0.8933\n",
      "Epoch 75/100\n",
      "750/750 [==============================] - 0s 69us/sample - loss: 0.2655 - accuracy: 0.8933\n",
      "Epoch 76/100\n",
      "750/750 [==============================] - 0s 74us/sample - loss: 0.2650 - accuracy: 0.8933\n",
      "Epoch 77/100\n",
      "750/750 [==============================] - 0s 70us/sample - loss: 0.2646 - accuracy: 0.8933\n",
      "Epoch 78/100\n"
     ]
    },
    {
     "name": "stdout",
     "output_type": "stream",
     "text": [
      "750/750 [==============================] - 0s 68us/sample - loss: 0.2641 - accuracy: 0.8933\n",
      "Epoch 79/100\n",
      "750/750 [==============================] - 0s 70us/sample - loss: 0.2638 - accuracy: 0.8933\n",
      "Epoch 80/100\n",
      "750/750 [==============================] - 0s 69us/sample - loss: 0.2634 - accuracy: 0.8933\n",
      "Epoch 81/100\n",
      "750/750 [==============================] - 0s 60us/sample - loss: 0.2630 - accuracy: 0.8933\n",
      "Epoch 82/100\n",
      "750/750 [==============================] - 0s 63us/sample - loss: 0.2627 - accuracy: 0.8933\n",
      "Epoch 83/100\n",
      "750/750 [==============================] - 0s 67us/sample - loss: 0.2623 - accuracy: 0.8933\n",
      "Epoch 84/100\n",
      "750/750 [==============================] - 0s 61us/sample - loss: 0.2620 - accuracy: 0.8920\n",
      "Epoch 85/100\n",
      "750/750 [==============================] - 0s 69us/sample - loss: 0.2616 - accuracy: 0.8920\n",
      "Epoch 86/100\n",
      "750/750 [==============================] - 0s 71us/sample - loss: 0.2613 - accuracy: 0.8920\n",
      "Epoch 87/100\n",
      "750/750 [==============================] - 0s 71us/sample - loss: 0.2610 - accuracy: 0.8920\n",
      "Epoch 88/100\n",
      "750/750 [==============================] - 0s 68us/sample - loss: 0.2608 - accuracy: 0.8920\n",
      "Epoch 89/100\n",
      "750/750 [==============================] - 0s 62us/sample - loss: 0.2604 - accuracy: 0.8907\n",
      "Epoch 90/100\n",
      "750/750 [==============================] - 0s 60us/sample - loss: 0.2601 - accuracy: 0.8907\n",
      "Epoch 91/100\n",
      "750/750 [==============================] - 0s 65us/sample - loss: 0.2599 - accuracy: 0.8907\n",
      "Epoch 92/100\n",
      "750/750 [==============================] - 0s 62us/sample - loss: 0.2596 - accuracy: 0.8920\n",
      "Epoch 93/100\n",
      "750/750 [==============================] - 0s 59us/sample - loss: 0.2594 - accuracy: 0.8920\n",
      "Epoch 94/100\n",
      "750/750 [==============================] - 0s 61us/sample - loss: 0.2591 - accuracy: 0.8920\n",
      "Epoch 95/100\n",
      "750/750 [==============================] - 0s 61us/sample - loss: 0.2588 - accuracy: 0.8920\n",
      "Epoch 96/100\n",
      "750/750 [==============================] - 0s 63us/sample - loss: 0.2586 - accuracy: 0.8920\n",
      "Epoch 97/100\n",
      "750/750 [==============================] - 0s 69us/sample - loss: 0.2584 - accuracy: 0.8920\n",
      "Epoch 98/100\n",
      "750/750 [==============================] - 0s 69us/sample - loss: 0.2581 - accuracy: 0.8920\n",
      "Epoch 99/100\n",
      "750/750 [==============================] - 0s 66us/sample - loss: 0.2579 - accuracy: 0.8920\n",
      "Epoch 100/100\n",
      "750/750 [==============================] - 0s 70us/sample - loss: 0.2577 - accuracy: 0.8920\n"
     ]
    }
   ],
   "source": [
    "# Training the model with the nonlinear data\n",
    "model_moon = nn_model.fit(X_moon_train_scaled, y_moon_train, epochs=100, shuffle=True)"
   ]
  },
  {
   "cell_type": "code",
   "execution_count": 21,
   "metadata": {},
   "outputs": [
    {
     "data": {
      "text/plain": [
       "<matplotlib.axes._subplots.AxesSubplot at 0x7fe7d1bb75d0>"
      ]
     },
     "execution_count": 21,
     "metadata": {},
     "output_type": "execute_result"
    },
    {
     "data": {
      "image/png": "[encoded data removed]",
      "text/plain": [
       "<Figure size 432x288 with 1 Axes>"
      ]
     },
     "metadata": {
      "needs_background": "light"
     },
     "output_type": "display_data"
    }
   ],
   "source": [
    "# Create a DataFrame containing training history\n",
    "history_df = pd.DataFrame(model_moon.history, index=range(1,len(model_moon.history[\"loss\"])+1))\n",
    "\n",
    "# Plot the loss\n",
    "history_df.plot(y=\"loss\")"
   ]
  },
  {
   "cell_type": "code",
   "execution_count": 22,
   "metadata": {},
   "outputs": [
    {
     "data": {
      "text/plain": [
       "<matplotlib.axes._subplots.AxesSubplot at 0x7fe7d1b71210>"
      ]
     },
     "execution_count": 22,
     "metadata": {},
     "output_type": "execute_result"
    },
    {
     "data": {
      "image/png": "[encoded data removed]",
      "text/plain": [
       "<Figure size 432x288 with 1 Axes>"
      ]
     },
     "metadata": {
      "needs_background": "light"
     },
     "output_type": "display_data"
    }
   ],
   "source": [
    "# Plot the loss\n",
    "history_df.plot(y=\"accuracy\")"
   ]
  },
  {
   "cell_type": "code",
   "execution_count": 23,
   "metadata": {},
   "outputs": [],
   "source": [
    "# A good rule of thumb for a basic neural network is to have two to three times \n",
    "# the amount of neurons in the hidden layer as the number of inputs.\n",
    "\n",
    "# Generate our new Sequential model\n",
    "new_model = tf.keras.models.Sequential()"
   ]
  },
  {
   "cell_type": "code",
   "execution_count": 24,
   "metadata": {},
   "outputs": [],
   "source": [
    "# Add the input and hidden layer\n",
    "number_inputs = 2\n",
    "number_hidden_nodes = 6\n",
    "\n",
    "new_model.add(tf.keras.layers.Dense(units=number_hidden_nodes, activation=\"relu\", input_dim=number_inputs))\n",
    "\n",
    "# Add the output layer that uses a probability activation function\n",
    "new_model.add(tf.keras.layers.Dense(units=1, activation=\"sigmoid\"))"
   ]
  },
  {
   "cell_type": "code",
   "execution_count": 25,
   "metadata": {},
   "outputs": [
    {
     "name": "stdout",
     "output_type": "stream",
     "text": [
      "Train on 750 samples\n",
      "Epoch 1/100\n",
      "750/750 [==============================] - 1s 2ms/sample - loss: 0.7909 - accuracy: 0.2907\n",
      "Epoch 2/100\n",
      "750/750 [==============================] - 0s 62us/sample - loss: 0.7479 - accuracy: 0.3080\n",
      "Epoch 3/100\n",
      "750/750 [==============================] - 0s 62us/sample - loss: 0.7091 - accuracy: 0.3600\n",
      "Epoch 4/100\n",
      "750/750 [==============================] - 0s 64us/sample - loss: 0.6745 - accuracy: 0.4387\n",
      "Epoch 5/100\n",
      "750/750 [==============================] - 0s 65us/sample - loss: 0.6427 - accuracy: 0.5467\n",
      "Epoch 6/100\n",
      "750/750 [==============================] - 0s 61us/sample - loss: 0.6138 - accuracy: 0.6373\n",
      "Epoch 7/100\n",
      "750/750 [==============================] - 0s 60us/sample - loss: 0.5868 - accuracy: 0.6787\n",
      "Epoch 8/100\n",
      "750/750 [==============================] - 0s 61us/sample - loss: 0.5621 - accuracy: 0.7067\n",
      "Epoch 9/100\n",
      "750/750 [==============================] - 0s 61us/sample - loss: 0.5391 - accuracy: 0.7293\n",
      "Epoch 10/100\n",
      "750/750 [==============================] - 0s 65us/sample - loss: 0.5180 - accuracy: 0.7480\n",
      "Epoch 11/100\n",
      "750/750 [==============================] - 0s 65us/sample - loss: 0.4985 - accuracy: 0.7613\n",
      "Epoch 12/100\n",
      "750/750 [==============================] - 0s 67us/sample - loss: 0.4805 - accuracy: 0.7773\n",
      "Epoch 13/100\n",
      "750/750 [==============================] - 0s 71us/sample - loss: 0.4637 - accuracy: 0.7920\n",
      "Epoch 14/100\n",
      "750/750 [==============================] - 0s 68us/sample - loss: 0.4484 - accuracy: 0.8013\n",
      "Epoch 15/100\n",
      "750/750 [==============================] - 0s 68us/sample - loss: 0.4343 - accuracy: 0.8040\n",
      "Epoch 16/100\n",
      "750/750 [==============================] - 0s 68us/sample - loss: 0.4214 - accuracy: 0.8067\n",
      "Epoch 17/100\n",
      "750/750 [==============================] - 0s 70us/sample - loss: 0.4095 - accuracy: 0.8080\n",
      "Epoch 18/100\n",
      "750/750 [==============================] - 0s 66us/sample - loss: 0.3984 - accuracy: 0.8133\n",
      "Epoch 19/100\n",
      "750/750 [==============================] - 0s 65us/sample - loss: 0.3883 - accuracy: 0.8147\n",
      "Epoch 20/100\n",
      "750/750 [==============================] - 0s 62us/sample - loss: 0.3787 - accuracy: 0.8200\n",
      "Epoch 21/100\n",
      "750/750 [==============================] - 0s 66us/sample - loss: 0.3699 - accuracy: 0.8267\n",
      "Epoch 22/100\n",
      "750/750 [==============================] - 0s 78us/sample - loss: 0.3617 - accuracy: 0.8360\n",
      "Epoch 23/100\n",
      "750/750 [==============================] - 0s 88us/sample - loss: 0.3542 - accuracy: 0.8387\n",
      "Epoch 24/100\n",
      "750/750 [==============================] - 0s 86us/sample - loss: 0.3470 - accuracy: 0.8387\n",
      "Epoch 25/100\n",
      "750/750 [==============================] - 0s 85us/sample - loss: 0.3404 - accuracy: 0.8387\n",
      "Epoch 26/100\n",
      "750/750 [==============================] - 0s 81us/sample - loss: 0.3343 - accuracy: 0.8440\n",
      "Epoch 27/100\n",
      "750/750 [==============================] - 0s 66us/sample - loss: 0.3283 - accuracy: 0.8480\n",
      "Epoch 28/100\n",
      "750/750 [==============================] - 0s 68us/sample - loss: 0.3229 - accuracy: 0.8520\n",
      "Epoch 29/100\n",
      "750/750 [==============================] - 0s 92us/sample - loss: 0.3176 - accuracy: 0.8547\n",
      "Epoch 30/100\n",
      "750/750 [==============================] - 0s 79us/sample - loss: 0.3126 - accuracy: 0.8573\n",
      "Epoch 31/100\n",
      "750/750 [==============================] - 0s 71us/sample - loss: 0.3079 - accuracy: 0.8600\n",
      "Epoch 32/100\n",
      "750/750 [==============================] - 0s 68us/sample - loss: 0.3035 - accuracy: 0.8640\n",
      "Epoch 33/100\n",
      "750/750 [==============================] - 0s 66us/sample - loss: 0.2992 - accuracy: 0.8653\n",
      "Epoch 34/100\n",
      "750/750 [==============================] - 0s 73us/sample - loss: 0.2951 - accuracy: 0.8680\n",
      "Epoch 35/100\n",
      "750/750 [==============================] - 0s 67us/sample - loss: 0.2913 - accuracy: 0.8680\n",
      "Epoch 36/100\n",
      "750/750 [==============================] - 0s 84us/sample - loss: 0.2877 - accuracy: 0.8680\n",
      "Epoch 37/100\n",
      "750/750 [==============================] - 0s 81us/sample - loss: 0.2841 - accuracy: 0.8680\n",
      "Epoch 38/100\n",
      "750/750 [==============================] - 0s 74us/sample - loss: 0.2808 - accuracy: 0.8707\n",
      "Epoch 39/100\n",
      "750/750 [==============================] - 0s 78us/sample - loss: 0.2774 - accuracy: 0.8707\n",
      "Epoch 40/100\n",
      "750/750 [==============================] - 0s 69us/sample - loss: 0.2742 - accuracy: 0.8707\n",
      "Epoch 41/100\n",
      "750/750 [==============================] - 0s 60us/sample - loss: 0.2710 - accuracy: 0.8760\n",
      "Epoch 42/100\n",
      "750/750 [==============================] - 0s 68us/sample - loss: 0.2680 - accuracy: 0.8773\n",
      "Epoch 43/100\n",
      "750/750 [==============================] - 0s 61us/sample - loss: 0.2651 - accuracy: 0.8800\n",
      "Epoch 44/100\n",
      "750/750 [==============================] - 0s 69us/sample - loss: 0.2623 - accuracy: 0.8827\n",
      "Epoch 45/100\n",
      "750/750 [==============================] - 0s 83us/sample - loss: 0.2595 - accuracy: 0.8853\n",
      "Epoch 46/100\n",
      "750/750 [==============================] - 0s 82us/sample - loss: 0.2569 - accuracy: 0.8867\n",
      "Epoch 47/100\n",
      "750/750 [==============================] - 0s 80us/sample - loss: 0.2542 - accuracy: 0.8907\n",
      "Epoch 48/100\n",
      "750/750 [==============================] - 0s 77us/sample - loss: 0.2518 - accuracy: 0.8907\n",
      "Epoch 49/100\n",
      "750/750 [==============================] - 0s 72us/sample - loss: 0.2495 - accuracy: 0.8920\n",
      "Epoch 50/100\n",
      "750/750 [==============================] - 0s 63us/sample - loss: 0.2471 - accuracy: 0.8920\n",
      "Epoch 51/100\n",
      "750/750 [==============================] - 0s 69us/sample - loss: 0.2450 - accuracy: 0.8947\n",
      "Epoch 52/100\n",
      "750/750 [==============================] - 0s 64us/sample - loss: 0.2430 - accuracy: 0.8947\n",
      "Epoch 53/100\n",
      "750/750 [==============================] - 0s 64us/sample - loss: 0.2411 - accuracy: 0.8947\n",
      "Epoch 54/100\n",
      "750/750 [==============================] - 0s 65us/sample - loss: 0.2393 - accuracy: 0.8947\n",
      "Epoch 55/100\n",
      "750/750 [==============================] - 0s 61us/sample - loss: 0.2375 - accuracy: 0.8947\n",
      "Epoch 56/100\n",
      "750/750 [==============================] - 0s 64us/sample - loss: 0.2357 - accuracy: 0.8973\n",
      "Epoch 57/100\n",
      "750/750 [==============================] - 0s 66us/sample - loss: 0.2341 - accuracy: 0.8973\n",
      "Epoch 58/100\n",
      "750/750 [==============================] - 0s 66us/sample - loss: 0.2325 - accuracy: 0.8987\n",
      "Epoch 59/100\n",
      "750/750 [==============================] - 0s 70us/sample - loss: 0.2308 - accuracy: 0.9013\n",
      "Epoch 60/100\n",
      "750/750 [==============================] - 0s 71us/sample - loss: 0.2293 - accuracy: 0.9027\n",
      "Epoch 61/100\n",
      "750/750 [==============================] - 0s 72us/sample - loss: 0.2278 - accuracy: 0.9027\n",
      "Epoch 62/100\n",
      "750/750 [==============================] - 0s 69us/sample - loss: 0.2264 - accuracy: 0.9027\n",
      "Epoch 63/100\n",
      "750/750 [==============================] - 0s 68us/sample - loss: 0.2250 - accuracy: 0.9053\n",
      "Epoch 64/100\n",
      "750/750 [==============================] - 0s 67us/sample - loss: 0.2235 - accuracy: 0.9067\n",
      "Epoch 65/100\n",
      "750/750 [==============================] - 0s 65us/sample - loss: 0.2223 - accuracy: 0.9067\n",
      "Epoch 66/100\n",
      "750/750 [==============================] - 0s 65us/sample - loss: 0.2209 - accuracy: 0.9067\n",
      "Epoch 67/100\n",
      "750/750 [==============================] - 0s 66us/sample - loss: 0.2196 - accuracy: 0.9093\n",
      "Epoch 68/100\n",
      "750/750 [==============================] - 0s 69us/sample - loss: 0.2183 - accuracy: 0.9093\n",
      "Epoch 69/100\n",
      "750/750 [==============================] - 0s 67us/sample - loss: 0.2170 - accuracy: 0.9093\n",
      "Epoch 70/100\n",
      "750/750 [==============================] - 0s 61us/sample - loss: 0.2157 - accuracy: 0.9093\n",
      "Epoch 71/100\n",
      "750/750 [==============================] - 0s 65us/sample - loss: 0.2145 - accuracy: 0.9093\n",
      "Epoch 72/100\n",
      "750/750 [==============================] - 0s 72us/sample - loss: 0.2134 - accuracy: 0.9093\n",
      "Epoch 73/100\n",
      "750/750 [==============================] - 0s 69us/sample - loss: 0.2121 - accuracy: 0.9120\n",
      "Epoch 74/100\n",
      "750/750 [==============================] - 0s 72us/sample - loss: 0.2110 - accuracy: 0.9120\n",
      "Epoch 75/100\n",
      "750/750 [==============================] - 0s 69us/sample - loss: 0.2098 - accuracy: 0.9120\n",
      "Epoch 76/100\n",
      "750/750 [==============================] - 0s 69us/sample - loss: 0.2086 - accuracy: 0.9120\n",
      "Epoch 77/100\n",
      "750/750 [==============================] - 0s 65us/sample - loss: 0.2074 - accuracy: 0.9120\n",
      "Epoch 78/100\n"
     ]
    },
    {
     "name": "stdout",
     "output_type": "stream",
     "text": [
      "750/750 [==============================] - 0s 66us/sample - loss: 0.2063 - accuracy: 0.9133\n",
      "Epoch 79/100\n",
      "750/750 [==============================] - 0s 72us/sample - loss: 0.2051 - accuracy: 0.9133\n",
      "Epoch 80/100\n",
      "750/750 [==============================] - 0s 72us/sample - loss: 0.2040 - accuracy: 0.9133\n",
      "Epoch 81/100\n",
      "750/750 [==============================] - 0s 68us/sample - loss: 0.2028 - accuracy: 0.9147\n",
      "Epoch 82/100\n",
      "750/750 [==============================] - 0s 69us/sample - loss: 0.2017 - accuracy: 0.9147\n",
      "Epoch 83/100\n",
      "750/750 [==============================] - 0s 66us/sample - loss: 0.2006 - accuracy: 0.9147\n",
      "Epoch 84/100\n",
      "750/750 [==============================] - 0s 85us/sample - loss: 0.1993 - accuracy: 0.9173\n",
      "Epoch 85/100\n",
      "750/750 [==============================] - 0s 79us/sample - loss: 0.1981 - accuracy: 0.9173\n",
      "Epoch 86/100\n",
      "750/750 [==============================] - 0s 78us/sample - loss: 0.1970 - accuracy: 0.9173\n",
      "Epoch 87/100\n",
      "750/750 [==============================] - 0s 68us/sample - loss: 0.1958 - accuracy: 0.9173\n",
      "Epoch 88/100\n",
      "750/750 [==============================] - 0s 69us/sample - loss: 0.1947 - accuracy: 0.9173\n",
      "Epoch 89/100\n",
      "750/750 [==============================] - 0s 67us/sample - loss: 0.1935 - accuracy: 0.9173\n",
      "Epoch 90/100\n",
      "750/750 [==============================] - 0s 82us/sample - loss: 0.1922 - accuracy: 0.9173\n",
      "Epoch 91/100\n",
      "750/750 [==============================] - 0s 71us/sample - loss: 0.1912 - accuracy: 0.9173\n",
      "Epoch 92/100\n",
      "750/750 [==============================] - 0s 81us/sample - loss: 0.1898 - accuracy: 0.9173\n",
      "Epoch 93/100\n",
      "750/750 [==============================] - 0s 69us/sample - loss: 0.1886 - accuracy: 0.9173\n",
      "Epoch 94/100\n",
      "750/750 [==============================] - 0s 69us/sample - loss: 0.1873 - accuracy: 0.9187\n",
      "Epoch 95/100\n",
      "750/750 [==============================] - 0s 60us/sample - loss: 0.1861 - accuracy: 0.9187\n",
      "Epoch 96/100\n",
      "750/750 [==============================] - 0s 70us/sample - loss: 0.1849 - accuracy: 0.9200\n",
      "Epoch 97/100\n",
      "750/750 [==============================] - 0s 76us/sample - loss: 0.1836 - accuracy: 0.9227\n",
      "Epoch 98/100\n",
      "750/750 [==============================] - 0s 63us/sample - loss: 0.1822 - accuracy: 0.9240\n",
      "Epoch 99/100\n",
      "750/750 [==============================] - 0s 63us/sample - loss: 0.1809 - accuracy: 0.9253\n",
      "Epoch 100/100\n",
      "750/750 [==============================] - 0s 68us/sample - loss: 0.1797 - accuracy: 0.9253\n"
     ]
    }
   ],
   "source": [
    "# Compile the Sequential model together and customize metrics\n",
    "new_model.compile(loss=\"binary_crossentropy\", optimizer=\"adam\", metrics=[\"accuracy\"])\n",
    "\n",
    "# Fit the model to the training data\n",
    "new_fit_model = new_model.fit(X_moon_train_scaled, y_moon_train, epochs=100, shuffle=True)"
   ]
  },
  {
   "cell_type": "code",
   "execution_count": null,
   "metadata": {},
   "outputs": [],
   "source": []
  }
 ],
 "metadata": {
  "kernelspec": {
   "display_name": "Python 3",
   "language": "python",
   "name": "python3"
  },
  "language_info": {
   "codemirror_mode": {
    "name": "ipython",
    "version": 3
   },
   "file_extension": ".py",
   "mimetype": "text/x-python",
   "name": "python",
   "nbconvert_exporter": "python",
   "pygments_lexer": "ipython3",
   "version": "3.7.4"
  }
 },
 "nbformat": 4,
 "nbformat_minor": 2
}
